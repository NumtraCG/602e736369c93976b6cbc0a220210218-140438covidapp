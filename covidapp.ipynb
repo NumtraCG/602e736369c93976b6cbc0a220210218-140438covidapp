{
 "cells": [
  {
   "cell_type": "markdown",
   "metadata": {},
   "source": [
    "***GENERATED CODE FOR covidapp PIPELINE.***"
   ]
  },
  {
   "cell_type": "markdown",
   "metadata": {},
   "source": [
    "***DON'T EDIT THIS CODE.***"
   ]
  },
  {
   "cell_type": "markdown",
   "metadata": {},
   "source": [
    "***CONNECTOR FUNCTIONS TO READ DATA.***"
   ]
  },
  {
   "cell_type": "code",
   "execution_count": null,
   "metadata": {},
   "outputs": [],
   "source": []
  },
  {
   "cell_type": "markdown",
   "metadata": {},
   "source": [
    "***AUTOML FUNCTIONS***"
   ]
  },
  {
   "cell_type": "code",
   "execution_count": null,
   "metadata": {},
   "outputs": [],
   "source": [
    "import json\n",
    "from sklearn.cluster import KMeans\n",
    "import optuna\n",
    "import numpy as np\n",
    "from sklearn import metrics\n",
    "import pandas as pd\n",
    "\n",
    "\n",
    "def kmeans(df, TrainingPercent):\n",
    "    rows = df.count()\n",
    "    percentrow = TrainingPercent / 100 * rows\n",
    "    percentrows = int(percentrow)\n",
    "    df = df.limit(percentrows)\n",
    "    pd_df = df.toPandas()\n",
    "\n",
    "    def objective(trial):\n",
    "        n_clusters = int(trial.suggest_loguniform(\"n_clusters\", 2, 10))\n",
    "        classifier_obj = KMeans(n_clusters=n_clusters).fit(pd_df)\n",
    "        labels = classifier_obj.predict(pd_df)\n",
    "        score = metrics.silhouette_score(pd_df, labels, metric='euclidean')\n",
    "        return score\n",
    "    study = optuna.create_study(direction=\"maximize\")\n",
    "    study.optimize(objective, n_trials=10)\n",
    "    best = study.best_params\n",
    "    best_param = int(best[\"n_clusters\"])\n",
    "    model = KMeans(n_clusters=best_param).fit(pd_df)\n",
    "    labels = model.predict(pd_df)\n",
    "    silhouette = metrics.silhouette_score(pd_df, labels, metric='euclidean')\n",
    "    pd_df['prediction'] = pd.DataFrame(labels)\n",
    "    labels_unique = np.unique(labels)\n",
    "    totalClusters = len(labels_unique)\n",
    "    display(\"totalClusters     : %s\" % totalClusters)\n",
    "    display(pd_df.head())\n",
    "    return pd_df\n",
    "\n",
    "\n",
    "class Clustering:\n",
    "\n",
    "    def run(spark_DF, spark, config):\n",
    "        stageAttributes = json.loads(config)\n",
    "        stageAttributes['model']\n",
    "        trainingPercent = stageAttributes['TrainingPercent']\n",
    "        autokmeans_obj = kmeans(df=spark_DF, TrainingPercent=trainingPercent)\n",
    "        [autokmeans_obj]\n"
   ]
  },
  {
   "cell_type": "markdown",
   "metadata": {},
   "source": [
    "***READING DATAFRAME***"
   ]
  },
  {
   "cell_type": "code",
   "execution_count": null,
   "metadata": {},
   "outputs": [],
   "source": [
    "#%run covidappHooks.ipynb\n",
    "try:\n",
    "\t\n",
    "except Exception as ex: \n",
    "\tlogging.error(ex)\n"
   ]
  },
  {
   "cell_type": "markdown",
   "metadata": {},
   "source": [
    "***TRAIN MODEL***"
   ]
  },
  {
   "cell_type": "code",
   "execution_count": null,
   "metadata": {},
   "outputs": [],
   "source": [
    "#%run covidappHooks.ipynb\n",
    "try:\n",
    "\t#mlPreExecutionHook()\n",
    "\n",
    "\tclusteringautoml = Clustering.run(coronapatient,spark,json.dumps( {\"autoClustering\": 1, \"originalfile\": \"/FileStore/platform/testdata/CoronaPatientTrain_DataCatalog.csv\", \"model\": \"Kmeans\", \"TrainingPercent\": 100, \"totalClusters\": 2}))\n",
    "\n",
    "\t#mlPostExecutionHook(clusteringautoml)\n",
    "\n",
    "except Exception as ex: \n",
    "\tlogging.error(ex)\n"
   ]
  }
 ],
 "metadata": {},
 "nbformat": 4,
 "nbformat_minor": 2
}
